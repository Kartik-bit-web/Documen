{
 "cells": [
  {
   "cell_type": "code",
   "execution_count": null,
   "metadata": {},
   "outputs": [],
   "source": [
    "#Recursive Method backword counting \n",
    "def print_test(test):\n",
    "    if test < 1:\n",
    "        return\n",
    "    else:\n",
    "        print(test, end=' ')\n",
    "        print_test(test-1)\n",
    "test = 3\n",
    "print_test(test)"
   ]
  },
  {
   "cell_type": "code",
   "execution_count": null,
   "metadata": {},
   "outputs": [],
   "source": [
    "#Recursive Method Fiboancci counting \n",
    "def fib(test):\n",
    "    if test == 0:\n",
    "        return 0\n",
    "\n",
    "    elif test == 1 or test ==2:\n",
    "        return 1\n",
    "    \n",
    "    else:\n",
    "        return (fib(test - 1) + fib(test - 2))\n",
    "\n",
    "test = 9\n",
    "\n",
    "for i in range(0, test):\n",
    "    print(fib(i), end=\" \")\n",
    "\n",
    "\n"
   ]
  },
  {
   "cell_type": "code",
   "execution_count": null,
   "metadata": {},
   "outputs": [],
   "source": [
    "def fun(n):\n",
    "    if (n == 1):\n",
    "        return 1\n",
    "    else:\n",
    "        return 1 + fun(n//2)\n",
    "fun(3)"
   ]
  },
  {
   "cell_type": "code",
   "execution_count": null,
   "metadata": {},
   "outputs": [],
   "source": [
    "def fun(n):\n",
    "    if (n == 0):\n",
    "        return \n",
    "    fun(n//2)\n",
    "    print(n, end=\" \")\n",
    "fun(3)"
   ]
  },
  {
   "cell_type": "code",
   "execution_count": null,
   "metadata": {},
   "outputs": [],
   "source": [
    "def fun(n):\n",
    "    i = 0\n",
    "    if n > 1:\n",
    "        fun(n -1)\n",
    "    for i in range(n):\n",
    "        print('*', end='')\n",
    "    print()\n",
    "fun(5)"
   ]
  },
  {
   "cell_type": "code",
   "execution_count": null,
   "metadata": {},
   "outputs": [],
   "source": [
    "#Linear Search in Iteration Mode\n",
    "for i in range(0, 5):\n",
    "    for j in range(0, i+1):\n",
    "        print(j, end='')\n",
    "    print()"
   ]
  },
  {
   "cell_type": "code",
   "execution_count": null,
   "metadata": {},
   "outputs": [],
   "source": [
    "#Linear Search In Recusive Mode\n",
    "def search(n, l, arr):\n",
    "    if arr[l] != n:\n",
    "        search(n, l-1, arr)\n",
    "    else:\n",
    "        print(l)\n",
    "\n",
    "arr = [1, 2, 3, 4, 5, 6, 7]\n",
    "l = len(arr)-1\n",
    "search(5, l, arr)"
   ]
  },
  {
   "cell_type": "code",
   "execution_count": null,
   "metadata": {},
   "outputs": [],
   "source": [
    "#Binary Search in Iteration mode\n",
    "def searchs(arr, n, l, i):\n",
    "    while i <= l:\n",
    "        mid = i + (l - i)//2\n",
    "        if arr[mid] == n:\n",
    "            return mid\n",
    "        elif arr[mid] < n:\n",
    "            i = mid + 1\n",
    "            print('L: ', l)\n",
    "        else:\n",
    "            l = mid - 1\n",
    "            print('i: ', i)\n",
    "\n",
    "    return -1\n",
    "\n",
    "arr= [1, 2, 3, 4, 5, 6, 7, 8, 9]\n",
    "n = 8\n",
    "searchs(arr, n, len(arr)-1, 0)"
   ]
  },
  {
   "cell_type": "code",
   "execution_count": null,
   "metadata": {},
   "outputs": [],
   "source": [
    "#Binary Search in Recusive Mode\n",
    "def search(arr, n, l, i):\n",
    "    mid = i + (l-i)//2\n",
    "    \n",
    "    if arr[mid] == i:\n",
    "        return mid\n",
    "    elif arr[mid] < n:\n",
    "        searchs(arr, n, arr[mid]+1, l)\n",
    "    else:\n",
    "        searchs(arr, n, i, arr[mid]-1)\n",
    "\n",
    "arr= [1, 2, 3, 4, 5, 6, 7, 8, 9]\n",
    "n = 9\n",
    "searchs(arr, n, len(arr)-1, 0)"
   ]
  },
  {
   "cell_type": "code",
   "execution_count": null,
   "metadata": {},
   "outputs": [],
   "source": [
    "from sys import maxsize\n",
    "def createStack():\n",
    "    stack = []\n",
    "    return stack\n",
    "\n",
    "def push(stack, item):\n",
    "    stack.append(item)\n",
    "    print(item)\n",
    "\n",
    "def isEmpty(stack):\n",
    "    return len(stack) == 0\n",
    "\n",
    "def pop(stack):\n",
    "    if (isEmpty(stack)):\n",
    "        return str(-maxsize -1)\n",
    "    return stack.pop()\n",
    "\n",
    "def peek(stack):\n",
    "    if(isEmpty(stack)):\n",
    "        return str(-maxsize -1)\n",
    "    return stack[len(stack)-1]\n",
    "\n",
    "stack = createStack()\n",
    "push(stack, str(10))\n",
    "push(stack, str(20))\n",
    "push(stack, str(30))\n",
    "push(stack, str(40))\n",
    "\n",
    "print(pop(stack)+ ' ' + 'poped')\n",
    "\n",
    "print(peek(stack))\n"
   ]
  }
 ],
 "metadata": {
  "kernelspec": {
   "display_name": "Python 3",
   "language": "python",
   "name": "python3"
  },
  "language_info": {
   "codemirror_mode": {
    "name": "ipython",
    "version": 3
   },
   "file_extension": ".py",
   "mimetype": "text/x-python",
   "name": "python",
   "nbconvert_exporter": "python",
   "pygments_lexer": "ipython3",
   "version": "3.10.4"
  },
  "orig_nbformat": 4
 },
 "nbformat": 4,
 "nbformat_minor": 2
}
